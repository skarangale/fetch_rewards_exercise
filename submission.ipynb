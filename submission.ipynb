{
 "cells": [
  {
   "cell_type": "markdown",
   "id": "19f2df2d",
   "metadata": {},
   "source": [
    "# Fetch Rewards Coding Exercise - Analytics Engineer\n",
    "\n",
    "## 1. Review Existing Unstructured Data and Diagram a New Structured Relational Data Model\n",
    "\n",
    "### 1.1. Relational Data Model\n",
    "\n",
    "<a id=\"section_1_data_model\"></a>\n",
    "\n",
    "Diagram: [section_1_data_model.jpg](section_1_data_model.jpg)\n",
    "![](section_1_data_model.jpg)\n",
    "\n",
    "### 1.2. Design decisions for the relation diagram\n",
    "\n",
    "For preliminary analysis, I started with identifying the following things for each table:\n",
    "- Data type of each column\n",
    "- Duplicate values in a column\n",
    "- If the data in a column contains null values\n",
    "- If the data is a column represents a JSON object or structure that needs to be extracted out in a separate table"
   ]
  },
  {
   "cell_type": "code",
   "execution_count": 1,
   "id": "88e350eb",
   "metadata": {},
   "outputs": [],
   "source": [
    "import os\n",
    "import pandas as pd\n",
    "\n",
    "# constants for path to raw data files\n",
    "USERS_JSON_PATH = os.path.join(\"data\", \"users.json\")\n",
    "BRANDS_JSON_PATH = os.path.join(\"data\", \"brands.json\")\n",
    "RECEIPTS_JSON_PATH = os.path.join(\"data\", \"receipts.json\")"
   ]
  },
  {
   "cell_type": "code",
   "execution_count": 2,
   "id": "b2d5cfa6",
   "metadata": {},
   "outputs": [
    {
     "data": {
      "text/html": [
       "<div>\n",
       "<style scoped>\n",
       "    .dataframe tbody tr th:only-of-type {\n",
       "        vertical-align: middle;\n",
       "    }\n",
       "\n",
       "    .dataframe tbody tr th {\n",
       "        vertical-align: top;\n",
       "    }\n",
       "\n",
       "    .dataframe thead th {\n",
       "        text-align: right;\n",
       "    }\n",
       "</style>\n",
       "<table border=\"1\" class=\"dataframe\">\n",
       "  <thead>\n",
       "    <tr style=\"text-align: right;\">\n",
       "      <th></th>\n",
       "      <th>id</th>\n",
       "      <th>active</th>\n",
       "      <th>createdDate</th>\n",
       "      <th>lastLogin</th>\n",
       "      <th>role</th>\n",
       "      <th>signUpSource</th>\n",
       "      <th>state</th>\n",
       "    </tr>\n",
       "  </thead>\n",
       "  <tbody>\n",
       "    <tr>\n",
       "      <th>0</th>\n",
       "      <td>{'$oid': '5ff1e194b6a9d73a3a9f1052'}</td>\n",
       "      <td>True</td>\n",
       "      <td>{'$date': 1609687444800}</td>\n",
       "      <td>{'$date': 1609687537858}</td>\n",
       "      <td>consumer</td>\n",
       "      <td>Email</td>\n",
       "      <td>WI</td>\n",
       "    </tr>\n",
       "    <tr>\n",
       "      <th>1</th>\n",
       "      <td>{'$oid': '5ff1e194b6a9d73a3a9f1052'}</td>\n",
       "      <td>True</td>\n",
       "      <td>{'$date': 1609687444800}</td>\n",
       "      <td>{'$date': 1609687537858}</td>\n",
       "      <td>consumer</td>\n",
       "      <td>Email</td>\n",
       "      <td>WI</td>\n",
       "    </tr>\n",
       "  </tbody>\n",
       "</table>\n",
       "</div>"
      ],
      "text/plain": [
       "                                     id  active               createdDate  \\\n",
       "0  {'$oid': '5ff1e194b6a9d73a3a9f1052'}    True  {'$date': 1609687444800}   \n",
       "1  {'$oid': '5ff1e194b6a9d73a3a9f1052'}    True  {'$date': 1609687444800}   \n",
       "\n",
       "                  lastLogin      role signUpSource state  \n",
       "0  {'$date': 1609687537858}  consumer        Email    WI  \n",
       "1  {'$date': 1609687537858}  consumer        Email    WI  "
      ]
     },
     "execution_count": 2,
     "metadata": {},
     "output_type": "execute_result"
    }
   ],
   "source": [
    "# Load user data\n",
    "users = pd.read_json(USERS_JSON_PATH,lines=True)\n",
    "users.rename(columns = {\"_id\":\"id\"}, inplace = True)\n",
    "users.head(2)"
   ]
  },
  {
   "cell_type": "code",
   "execution_count": 3,
   "id": "a5f2e732",
   "metadata": {},
   "outputs": [
    {
     "data": {
      "text/html": [
       "<div>\n",
       "<style scoped>\n",
       "    .dataframe tbody tr th:only-of-type {\n",
       "        vertical-align: middle;\n",
       "    }\n",
       "\n",
       "    .dataframe tbody tr th {\n",
       "        vertical-align: top;\n",
       "    }\n",
       "\n",
       "    .dataframe thead th {\n",
       "        text-align: right;\n",
       "    }\n",
       "</style>\n",
       "<table border=\"1\" class=\"dataframe\">\n",
       "  <thead>\n",
       "    <tr style=\"text-align: right;\">\n",
       "      <th></th>\n",
       "      <th>id</th>\n",
       "      <th>barcode</th>\n",
       "      <th>category</th>\n",
       "      <th>categoryCode</th>\n",
       "      <th>cpg</th>\n",
       "      <th>name</th>\n",
       "      <th>topBrand</th>\n",
       "      <th>brandCode</th>\n",
       "    </tr>\n",
       "  </thead>\n",
       "  <tbody>\n",
       "    <tr>\n",
       "      <th>0</th>\n",
       "      <td>{'$oid': '601ac115be37ce2ead437551'}</td>\n",
       "      <td>511111019862</td>\n",
       "      <td>Baking</td>\n",
       "      <td>BAKING</td>\n",
       "      <td>{'$id': {'$oid': '601ac114be37ce2ead437550'}, ...</td>\n",
       "      <td>test brand @1612366101024</td>\n",
       "      <td>0.0</td>\n",
       "      <td>NaN</td>\n",
       "    </tr>\n",
       "    <tr>\n",
       "      <th>1</th>\n",
       "      <td>{'$oid': '601c5460be37ce2ead43755f'}</td>\n",
       "      <td>511111519928</td>\n",
       "      <td>Beverages</td>\n",
       "      <td>BEVERAGES</td>\n",
       "      <td>{'$id': {'$oid': '5332f5fbe4b03c9a25efd0ba'}, ...</td>\n",
       "      <td>Starbucks</td>\n",
       "      <td>0.0</td>\n",
       "      <td>STARBUCKS</td>\n",
       "    </tr>\n",
       "  </tbody>\n",
       "</table>\n",
       "</div>"
      ],
      "text/plain": [
       "                                     id       barcode   category categoryCode  \\\n",
       "0  {'$oid': '601ac115be37ce2ead437551'}  511111019862     Baking       BAKING   \n",
       "1  {'$oid': '601c5460be37ce2ead43755f'}  511111519928  Beverages    BEVERAGES   \n",
       "\n",
       "                                                 cpg  \\\n",
       "0  {'$id': {'$oid': '601ac114be37ce2ead437550'}, ...   \n",
       "1  {'$id': {'$oid': '5332f5fbe4b03c9a25efd0ba'}, ...   \n",
       "\n",
       "                        name  topBrand  brandCode  \n",
       "0  test brand @1612366101024       0.0        NaN  \n",
       "1                  Starbucks       0.0  STARBUCKS  "
      ]
     },
     "execution_count": 3,
     "metadata": {},
     "output_type": "execute_result"
    }
   ],
   "source": [
    "# Load brand data\n",
    "brands = pd.read_json(BRANDS_JSON_PATH,lines=True)\n",
    "brands.rename(columns = {\"_id\":\"id\"}, inplace = True)\n",
    "brands.head(2)"
   ]
  },
  {
   "cell_type": "code",
   "execution_count": 4,
   "id": "1e9f8aa4",
   "metadata": {},
   "outputs": [
    {
     "data": {
      "text/html": [
       "<div>\n",
       "<style scoped>\n",
       "    .dataframe tbody tr th:only-of-type {\n",
       "        vertical-align: middle;\n",
       "    }\n",
       "\n",
       "    .dataframe tbody tr th {\n",
       "        vertical-align: top;\n",
       "    }\n",
       "\n",
       "    .dataframe thead th {\n",
       "        text-align: right;\n",
       "    }\n",
       "</style>\n",
       "<table border=\"1\" class=\"dataframe\">\n",
       "  <thead>\n",
       "    <tr style=\"text-align: right;\">\n",
       "      <th></th>\n",
       "      <th>id</th>\n",
       "      <th>bonusPointsEarned</th>\n",
       "      <th>bonusPointsEarnedReason</th>\n",
       "      <th>createDate</th>\n",
       "      <th>dateScanned</th>\n",
       "      <th>finishedDate</th>\n",
       "      <th>modifyDate</th>\n",
       "      <th>pointsAwardedDate</th>\n",
       "      <th>pointsEarned</th>\n",
       "      <th>purchaseDate</th>\n",
       "      <th>purchasedItemCount</th>\n",
       "      <th>rewardsReceiptItemList</th>\n",
       "      <th>rewardsReceiptStatus</th>\n",
       "      <th>totalSpent</th>\n",
       "      <th>userId</th>\n",
       "    </tr>\n",
       "  </thead>\n",
       "  <tbody>\n",
       "    <tr>\n",
       "      <th>0</th>\n",
       "      <td>{'$oid': '5ff1e1eb0a720f0523000575'}</td>\n",
       "      <td>500.0</td>\n",
       "      <td>Receipt number 2 completed, bonus point schedu...</td>\n",
       "      <td>{'$date': 1609687531000}</td>\n",
       "      <td>{'$date': 1609687531000}</td>\n",
       "      <td>{'$date': 1609687531000}</td>\n",
       "      <td>{'$date': 1609687536000}</td>\n",
       "      <td>{'$date': 1609687531000}</td>\n",
       "      <td>500.0</td>\n",
       "      <td>{'$date': 1609632000000}</td>\n",
       "      <td>5.0</td>\n",
       "      <td>[{'barcode': '4011', 'description': 'ITEM NOT ...</td>\n",
       "      <td>FINISHED</td>\n",
       "      <td>26.0</td>\n",
       "      <td>5ff1e1eacfcf6c399c274ae6</td>\n",
       "    </tr>\n",
       "    <tr>\n",
       "      <th>1</th>\n",
       "      <td>{'$oid': '5ff1e1bb0a720f052300056b'}</td>\n",
       "      <td>150.0</td>\n",
       "      <td>Receipt number 5 completed, bonus point schedu...</td>\n",
       "      <td>{'$date': 1609687483000}</td>\n",
       "      <td>{'$date': 1609687483000}</td>\n",
       "      <td>{'$date': 1609687483000}</td>\n",
       "      <td>{'$date': 1609687488000}</td>\n",
       "      <td>{'$date': 1609687483000}</td>\n",
       "      <td>150.0</td>\n",
       "      <td>{'$date': 1609601083000}</td>\n",
       "      <td>2.0</td>\n",
       "      <td>[{'barcode': '4011', 'description': 'ITEM NOT ...</td>\n",
       "      <td>FINISHED</td>\n",
       "      <td>11.0</td>\n",
       "      <td>5ff1e194b6a9d73a3a9f1052</td>\n",
       "    </tr>\n",
       "  </tbody>\n",
       "</table>\n",
       "</div>"
      ],
      "text/plain": [
       "                                     id  bonusPointsEarned  \\\n",
       "0  {'$oid': '5ff1e1eb0a720f0523000575'}              500.0   \n",
       "1  {'$oid': '5ff1e1bb0a720f052300056b'}              150.0   \n",
       "\n",
       "                             bonusPointsEarnedReason  \\\n",
       "0  Receipt number 2 completed, bonus point schedu...   \n",
       "1  Receipt number 5 completed, bonus point schedu...   \n",
       "\n",
       "                 createDate               dateScanned  \\\n",
       "0  {'$date': 1609687531000}  {'$date': 1609687531000}   \n",
       "1  {'$date': 1609687483000}  {'$date': 1609687483000}   \n",
       "\n",
       "               finishedDate                modifyDate  \\\n",
       "0  {'$date': 1609687531000}  {'$date': 1609687536000}   \n",
       "1  {'$date': 1609687483000}  {'$date': 1609687488000}   \n",
       "\n",
       "          pointsAwardedDate  pointsEarned              purchaseDate  \\\n",
       "0  {'$date': 1609687531000}         500.0  {'$date': 1609632000000}   \n",
       "1  {'$date': 1609687483000}         150.0  {'$date': 1609601083000}   \n",
       "\n",
       "   purchasedItemCount                             rewardsReceiptItemList  \\\n",
       "0                 5.0  [{'barcode': '4011', 'description': 'ITEM NOT ...   \n",
       "1                 2.0  [{'barcode': '4011', 'description': 'ITEM NOT ...   \n",
       "\n",
       "  rewardsReceiptStatus  totalSpent                    userId  \n",
       "0             FINISHED        26.0  5ff1e1eacfcf6c399c274ae6  \n",
       "1             FINISHED        11.0  5ff1e194b6a9d73a3a9f1052  "
      ]
     },
     "execution_count": 4,
     "metadata": {},
     "output_type": "execute_result"
    }
   ],
   "source": [
    "# Load receipt data\n",
    "receipts = pd.read_json(RECEIPTS_JSON_PATH,lines=True)\n",
    "receipts.rename(columns = {\"_id\":\"id\"}, inplace = True)\n",
    "receipts.head(2)"
   ]
  },
  {
   "cell_type": "markdown",
   "id": "f7701e84",
   "metadata": {},
   "source": [
    "The first thing that I notice is the presence of `$oid`, `$date` and `$ref` which suggests that the data is likely associated with MongoDB. The `id` for each row can be extracted from `$oid` and the date values can be parsed from `$date`."
   ]
  },
  {
   "cell_type": "code",
   "execution_count": 5,
   "id": "851e59f8",
   "metadata": {},
   "outputs": [
    {
     "data": {
      "text/html": [
       "<div>\n",
       "<style scoped>\n",
       "    .dataframe tbody tr th:only-of-type {\n",
       "        vertical-align: middle;\n",
       "    }\n",
       "\n",
       "    .dataframe tbody tr th {\n",
       "        vertical-align: top;\n",
       "    }\n",
       "\n",
       "    .dataframe thead th {\n",
       "        text-align: right;\n",
       "    }\n",
       "</style>\n",
       "<table border=\"1\" class=\"dataframe\">\n",
       "  <thead>\n",
       "    <tr style=\"text-align: right;\">\n",
       "      <th></th>\n",
       "      <th>id</th>\n",
       "      <th>active</th>\n",
       "      <th>createdDate</th>\n",
       "      <th>lastLogin</th>\n",
       "      <th>role</th>\n",
       "      <th>signUpSource</th>\n",
       "      <th>state</th>\n",
       "    </tr>\n",
       "  </thead>\n",
       "  <tbody>\n",
       "    <tr>\n",
       "      <th>0</th>\n",
       "      <td>5ff1e194b6a9d73a3a9f1052</td>\n",
       "      <td>True</td>\n",
       "      <td>2021-01-03 15:24:04.800</td>\n",
       "      <td>2021-01-03 15:25:37.857999872</td>\n",
       "      <td>consumer</td>\n",
       "      <td>Email</td>\n",
       "      <td>WI</td>\n",
       "    </tr>\n",
       "    <tr>\n",
       "      <th>1</th>\n",
       "      <td>5ff1e194b6a9d73a3a9f1052</td>\n",
       "      <td>True</td>\n",
       "      <td>2021-01-03 15:24:04.800</td>\n",
       "      <td>2021-01-03 15:25:37.857999872</td>\n",
       "      <td>consumer</td>\n",
       "      <td>Email</td>\n",
       "      <td>WI</td>\n",
       "    </tr>\n",
       "  </tbody>\n",
       "</table>\n",
       "</div>"
      ],
      "text/plain": [
       "                         id  active             createdDate  \\\n",
       "0  5ff1e194b6a9d73a3a9f1052    True 2021-01-03 15:24:04.800   \n",
       "1  5ff1e194b6a9d73a3a9f1052    True 2021-01-03 15:24:04.800   \n",
       "\n",
       "                      lastLogin      role signUpSource state  \n",
       "0 2021-01-03 15:25:37.857999872  consumer        Email    WI  \n",
       "1 2021-01-03 15:25:37.857999872  consumer        Email    WI  "
      ]
     },
     "execution_count": 5,
     "metadata": {},
     "output_type": "execute_result"
    }
   ],
   "source": [
    "# Function to find value by key in dict\n",
    "def get_val(dict_x, key):\n",
    "    return dict_x[key] if isinstance(dict_x, dict) and key in dict_x else None\n",
    "\n",
    "# Transform id and datetime fields\n",
    "users[\"id\"] = users[\"id\"].apply(lambda x: x[\"$oid\"])\n",
    "users[\"createdDate\"] = pd.to_datetime(users[\"createdDate\"].apply(lambda x: get_val(x, \"$date\")), unit=\"ms\")\n",
    "users[\"lastLogin\"] = pd.to_datetime(users[\"lastLogin\"].apply(lambda x: get_val(x, \"$date\")), unit=\"ms\")\n",
    "users.head(2)"
   ]
  },
  {
   "cell_type": "code",
   "execution_count": 6,
   "id": "91890a31",
   "metadata": {},
   "outputs": [
    {
     "data": {
      "text/plain": [
       "id               0\n",
       "active           0\n",
       "createdDate      0\n",
       "lastLogin       62\n",
       "role             0\n",
       "signUpSource    48\n",
       "state           56\n",
       "dtype: int64"
      ]
     },
     "execution_count": 6,
     "metadata": {},
     "output_type": "execute_result"
    }
   ],
   "source": [
    "# Checking for null values\n",
    "users.isnull().sum()"
   ]
  },
  {
   "cell_type": "code",
   "execution_count": 7,
   "id": "58af2044",
   "metadata": {},
   "outputs": [
    {
     "data": {
      "text/plain": [
       "consumer       413\n",
       "fetch-staff     82\n",
       "Name: role, dtype: int64"
      ]
     },
     "execution_count": 7,
     "metadata": {},
     "output_type": "execute_result"
    }
   ],
   "source": [
    "# Checking different roles to decide if a separate table is needed\n",
    "users[\"role\"].value_counts()"
   ]
  },
  {
   "cell_type": "code",
   "execution_count": 8,
   "id": "16138050",
   "metadata": {},
   "outputs": [
    {
     "data": {
      "text/plain": [
       "Email     443\n",
       "Google      4\n",
       "Name: signUpSource, dtype: int64"
      ]
     },
     "execution_count": 8,
     "metadata": {},
     "output_type": "execute_result"
    }
   ],
   "source": [
    "# Checking different signUpSource values to decide if a separate table is needed\n",
    "users[\"signUpSource\"].value_counts()"
   ]
  },
  {
   "cell_type": "code",
   "execution_count": 9,
   "id": "001e3927",
   "metadata": {},
   "outputs": [
    {
     "data": {
      "text/plain": [
       "WI    396\n",
       "NH     20\n",
       "AL     12\n",
       "OH      5\n",
       "IL      3\n",
       "KY      1\n",
       "CO      1\n",
       "SC      1\n",
       "Name: state, dtype: int64"
      ]
     },
     "execution_count": 9,
     "metadata": {},
     "output_type": "execute_result"
    }
   ],
   "source": [
    "# Checking different state values present in the date\n",
    "users[\"state\"].value_counts()"
   ]
  },
  {
   "cell_type": "code",
   "execution_count": 10,
   "id": "28693f89",
   "metadata": {},
   "outputs": [
    {
     "data": {
      "text/plain": [
       "False"
      ]
     },
     "execution_count": 10,
     "metadata": {},
     "output_type": "execute_result"
    }
   ],
   "source": [
    "# Checking if id column is unique in raw data\n",
    "users[\"id\"].nunique() == users[\"id\"].count()"
   ]
  },
  {
   "cell_type": "markdown",
   "id": "dca52e6f",
   "metadata": {},
   "source": [
    "The `id` column has duplicate values which is a data quality issue.\n",
    "\n",
    "#### 1.2.1. Finalizing `user` table\n",
    "\n",
    "The user data does not contain any nested objects, hence I decided to have a single table as displayed in [data model diagram](#section_1_data_model).\n",
    "\n",
    "**Future scope**: Further normalization can be performed to extract the columns `role`, `signUpSource` and `state` as tables, but I decided to keep the design simple since it was mentioned that the potential target for this data will be a data warehouse. Extracting these columns into table may result in extra `JOIN` operations while retrieving data. Also, since it a test, I thought its better to keep the design simple."
   ]
  },
  {
   "cell_type": "code",
   "execution_count": 11,
   "id": "f2fad22c",
   "metadata": {},
   "outputs": [
    {
     "data": {
      "text/html": [
       "<div>\n",
       "<style scoped>\n",
       "    .dataframe tbody tr th:only-of-type {\n",
       "        vertical-align: middle;\n",
       "    }\n",
       "\n",
       "    .dataframe tbody tr th {\n",
       "        vertical-align: top;\n",
       "    }\n",
       "\n",
       "    .dataframe thead th {\n",
       "        text-align: right;\n",
       "    }\n",
       "</style>\n",
       "<table border=\"1\" class=\"dataframe\">\n",
       "  <thead>\n",
       "    <tr style=\"text-align: right;\">\n",
       "      <th></th>\n",
       "      <th>id</th>\n",
       "      <th>barcode</th>\n",
       "      <th>category</th>\n",
       "      <th>categoryCode</th>\n",
       "      <th>cpg</th>\n",
       "      <th>name</th>\n",
       "      <th>topBrand</th>\n",
       "      <th>brandCode</th>\n",
       "    </tr>\n",
       "  </thead>\n",
       "  <tbody>\n",
       "    <tr>\n",
       "      <th>0</th>\n",
       "      <td>601ac115be37ce2ead437551</td>\n",
       "      <td>511111019862</td>\n",
       "      <td>Baking</td>\n",
       "      <td>BAKING</td>\n",
       "      <td>{'$id': {'$oid': '601ac114be37ce2ead437550'}, ...</td>\n",
       "      <td>test brand @1612366101024</td>\n",
       "      <td>0.0</td>\n",
       "      <td>NaN</td>\n",
       "    </tr>\n",
       "    <tr>\n",
       "      <th>1</th>\n",
       "      <td>601c5460be37ce2ead43755f</td>\n",
       "      <td>511111519928</td>\n",
       "      <td>Beverages</td>\n",
       "      <td>BEVERAGES</td>\n",
       "      <td>{'$id': {'$oid': '5332f5fbe4b03c9a25efd0ba'}, ...</td>\n",
       "      <td>Starbucks</td>\n",
       "      <td>0.0</td>\n",
       "      <td>STARBUCKS</td>\n",
       "    </tr>\n",
       "  </tbody>\n",
       "</table>\n",
       "</div>"
      ],
      "text/plain": [
       "                         id       barcode   category categoryCode  \\\n",
       "0  601ac115be37ce2ead437551  511111019862     Baking       BAKING   \n",
       "1  601c5460be37ce2ead43755f  511111519928  Beverages    BEVERAGES   \n",
       "\n",
       "                                                 cpg  \\\n",
       "0  {'$id': {'$oid': '601ac114be37ce2ead437550'}, ...   \n",
       "1  {'$id': {'$oid': '5332f5fbe4b03c9a25efd0ba'}, ...   \n",
       "\n",
       "                        name  topBrand  brandCode  \n",
       "0  test brand @1612366101024       0.0        NaN  \n",
       "1                  Starbucks       0.0  STARBUCKS  "
      ]
     },
     "execution_count": 11,
     "metadata": {},
     "output_type": "execute_result"
    }
   ],
   "source": [
    "# Transform id\n",
    "brands[\"id\"] = brands[\"id\"].apply(lambda x: x[\"$oid\"])\n",
    "brands.head(2)"
   ]
  },
  {
   "cell_type": "code",
   "execution_count": 12,
   "id": "cdf255f1",
   "metadata": {},
   "outputs": [
    {
     "data": {
      "text/plain": [
       "id                0\n",
       "barcode           0\n",
       "category        155\n",
       "categoryCode    650\n",
       "cpg               0\n",
       "name              0\n",
       "topBrand        612\n",
       "brandCode       234\n",
       "dtype: int64"
      ]
     },
     "execution_count": 12,
     "metadata": {},
     "output_type": "execute_result"
    }
   ],
   "source": [
    "# Checking for nullable columns\n",
    "brands.isnull().sum()"
   ]
  },
  {
   "cell_type": "code",
   "execution_count": 13,
   "id": "6e90e12a",
   "metadata": {},
   "outputs": [
    {
     "data": {
      "text/plain": [
       "Baking                         369\n",
       "Beer Wine Spirits               90\n",
       "Snacks                          75\n",
       "Candy & Sweets                  71\n",
       "Beverages                       63\n",
       "Magazines                       44\n",
       "Health & Wellness               44\n",
       "Breakfast & Cereal              40\n",
       "Grocery                         39\n",
       "Dairy                           33\n",
       "Condiments & Sauces             27\n",
       "Frozen                          24\n",
       "Personal Care                   20\n",
       "Baby                            18\n",
       "Canned Goods & Soups            12\n",
       "Beauty                           9\n",
       "Cleaning & Home Improvement      6\n",
       "Deli                             6\n",
       "Beauty & Personal Care           6\n",
       "Household                        5\n",
       "Bread & Bakery                   5\n",
       "Dairy & Refrigerated             5\n",
       "Outdoor                          1\n",
       "Name: category, dtype: int64"
      ]
     },
     "execution_count": 13,
     "metadata": {},
     "output_type": "execute_result"
    }
   ],
   "source": [
    "# Checking different roles to decide if a separate table is needed\n",
    "brands[\"category\"].value_counts()"
   ]
  },
  {
   "cell_type": "code",
   "execution_count": 14,
   "id": "7286ea03",
   "metadata": {},
   "outputs": [
    {
     "data": {
      "text/plain": [
       "BAKING                           359\n",
       "CANDY_AND_SWEETS                  71\n",
       "BEER_WINE_SPIRITS                 31\n",
       "HEALTHY_AND_WELLNESS              14\n",
       "GROCERY                           11\n",
       "BABY                               7\n",
       "CLEANING_AND_HOME_IMPROVEMENT      6\n",
       "BREAD_AND_BAKERY                   5\n",
       "DAIRY_AND_REFRIGERATED             5\n",
       "PERSONAL_CARE                      4\n",
       "BEVERAGES                          1\n",
       "OUTDOOR                            1\n",
       "MAGAZINES                          1\n",
       "FROZEN                             1\n",
       "Name: categoryCode, dtype: int64"
      ]
     },
     "execution_count": 14,
     "metadata": {},
     "output_type": "execute_result"
    }
   ],
   "source": [
    "# Checking different roles to decide if a separate table is needed\n",
    "brands[\"categoryCode\"].value_counts()"
   ]
  },
  {
   "cell_type": "code",
   "execution_count": 15,
   "id": "c32944cf",
   "metadata": {},
   "outputs": [
    {
     "data": {
      "text/plain": [
       "True"
      ]
     },
     "execution_count": 15,
     "metadata": {},
     "output_type": "execute_result"
    }
   ],
   "source": [
    "# Checking if id column is unique in raw data\n",
    "brands[\"id\"].nunique() == brands[\"id\"].count()"
   ]
  },
  {
   "cell_type": "code",
   "execution_count": 16,
   "id": "2c5accae",
   "metadata": {},
   "outputs": [
    {
     "data": {
      "text/plain": [
       "False"
      ]
     },
     "execution_count": 16,
     "metadata": {},
     "output_type": "execute_result"
    }
   ],
   "source": [
    "# Checking if barcode column is unique in raw data\n",
    "brands[\"barcode\"].nunique() == brands[\"barcode\"].count()"
   ]
  },
  {
   "cell_type": "markdown",
   "id": "3b65d320",
   "metadata": {},
   "source": [
    "The `barcode` column has duplicate values which can be considered a data quality issue since barcodes need to be unique.\n",
    "\n",
    "Normalization can be performed to extract the `category` and `categoryCode` column into a separate table, but to keep the design simple and maintain scope of this assessment, I decided to not create another table for it.\n",
    "\n",
    "The `cpg` column of `brand` contains an object with the `$ref` property which suggests that another document collection is referenced in brands, which existed in the raw dataset. The `$ref` field points to two types of collections, `COGS` and `CPGS`. Since this reference field doesn't have any other fields to identify their exact nature and whether they are related or not, I decided to create two tables `cogs` and `cpgs`, each of which is linked to `brands` table using `cogs_id` and `cpgs_id` respectiveyly. Unlike `category`, I created these separate tables for cpg just to respect the existence of the `$ref` relation.\n",
    "\n",
    "#### 1.2.2. Finalizing `brand` table\n",
    "\n",
    "The `brand` table contains two `$ref` objects, `COGS` and `CPGS` and hence I decided to extra them out as separate tables. `cogs` and `cpgs` only have `id` columns as primary key for now, but can be extended to have more columns in the future. The table structure for `brand`, `cogs` and `cpgs` table is displayed in [data model diagram](#section_1_data_model).\n",
    "\n",
    "**Future scope**: Further normalization can be performed to extract the columns `category` with columns `id`, `name` and `categoryCode`, but I decided to keep the design simple since it was mentioned for the same reason as mentioned in future scope for `users` table."
   ]
  },
  {
   "cell_type": "code",
   "execution_count": 17,
   "id": "ff8c0dca",
   "metadata": {},
   "outputs": [
    {
     "data": {
      "text/html": [
       "<div>\n",
       "<style scoped>\n",
       "    .dataframe tbody tr th:only-of-type {\n",
       "        vertical-align: middle;\n",
       "    }\n",
       "\n",
       "    .dataframe tbody tr th {\n",
       "        vertical-align: top;\n",
       "    }\n",
       "\n",
       "    .dataframe thead th {\n",
       "        text-align: right;\n",
       "    }\n",
       "</style>\n",
       "<table border=\"1\" class=\"dataframe\">\n",
       "  <thead>\n",
       "    <tr style=\"text-align: right;\">\n",
       "      <th></th>\n",
       "      <th>id</th>\n",
       "      <th>bonusPointsEarned</th>\n",
       "      <th>bonusPointsEarnedReason</th>\n",
       "      <th>createDate</th>\n",
       "      <th>dateScanned</th>\n",
       "      <th>finishedDate</th>\n",
       "      <th>modifyDate</th>\n",
       "      <th>pointsAwardedDate</th>\n",
       "      <th>pointsEarned</th>\n",
       "      <th>purchaseDate</th>\n",
       "      <th>purchasedItemCount</th>\n",
       "      <th>rewardsReceiptItemList</th>\n",
       "      <th>rewardsReceiptStatus</th>\n",
       "      <th>totalSpent</th>\n",
       "      <th>userId</th>\n",
       "    </tr>\n",
       "  </thead>\n",
       "  <tbody>\n",
       "    <tr>\n",
       "      <th>0</th>\n",
       "      <td>5ff1e1eb0a720f0523000575</td>\n",
       "      <td>500.0</td>\n",
       "      <td>Receipt number 2 completed, bonus point schedu...</td>\n",
       "      <td>2021-01-03 15:25:31</td>\n",
       "      <td>2021-01-03 15:25:31</td>\n",
       "      <td>2021-01-03 15:25:31</td>\n",
       "      <td>2021-01-03 15:25:36</td>\n",
       "      <td>2021-01-03 15:25:31</td>\n",
       "      <td>500.0</td>\n",
       "      <td>2021-01-03 00:00:00</td>\n",
       "      <td>5.0</td>\n",
       "      <td>[{'barcode': '4011', 'description': 'ITEM NOT ...</td>\n",
       "      <td>FINISHED</td>\n",
       "      <td>26.0</td>\n",
       "      <td>5ff1e1eacfcf6c399c274ae6</td>\n",
       "    </tr>\n",
       "    <tr>\n",
       "      <th>1</th>\n",
       "      <td>5ff1e1bb0a720f052300056b</td>\n",
       "      <td>150.0</td>\n",
       "      <td>Receipt number 5 completed, bonus point schedu...</td>\n",
       "      <td>2021-01-03 15:24:43</td>\n",
       "      <td>2021-01-03 15:24:43</td>\n",
       "      <td>2021-01-03 15:24:43</td>\n",
       "      <td>2021-01-03 15:24:48</td>\n",
       "      <td>2021-01-03 15:24:43</td>\n",
       "      <td>150.0</td>\n",
       "      <td>2021-01-02 15:24:43</td>\n",
       "      <td>2.0</td>\n",
       "      <td>[{'barcode': '4011', 'description': 'ITEM NOT ...</td>\n",
       "      <td>FINISHED</td>\n",
       "      <td>11.0</td>\n",
       "      <td>5ff1e194b6a9d73a3a9f1052</td>\n",
       "    </tr>\n",
       "  </tbody>\n",
       "</table>\n",
       "</div>"
      ],
      "text/plain": [
       "                         id  bonusPointsEarned  \\\n",
       "0  5ff1e1eb0a720f0523000575              500.0   \n",
       "1  5ff1e1bb0a720f052300056b              150.0   \n",
       "\n",
       "                             bonusPointsEarnedReason          createDate  \\\n",
       "0  Receipt number 2 completed, bonus point schedu... 2021-01-03 15:25:31   \n",
       "1  Receipt number 5 completed, bonus point schedu... 2021-01-03 15:24:43   \n",
       "\n",
       "          dateScanned        finishedDate          modifyDate  \\\n",
       "0 2021-01-03 15:25:31 2021-01-03 15:25:31 2021-01-03 15:25:36   \n",
       "1 2021-01-03 15:24:43 2021-01-03 15:24:43 2021-01-03 15:24:48   \n",
       "\n",
       "    pointsAwardedDate  pointsEarned        purchaseDate  purchasedItemCount  \\\n",
       "0 2021-01-03 15:25:31         500.0 2021-01-03 00:00:00                 5.0   \n",
       "1 2021-01-03 15:24:43         150.0 2021-01-02 15:24:43                 2.0   \n",
       "\n",
       "                              rewardsReceiptItemList rewardsReceiptStatus  \\\n",
       "0  [{'barcode': '4011', 'description': 'ITEM NOT ...             FINISHED   \n",
       "1  [{'barcode': '4011', 'description': 'ITEM NOT ...             FINISHED   \n",
       "\n",
       "   totalSpent                    userId  \n",
       "0        26.0  5ff1e1eacfcf6c399c274ae6  \n",
       "1        11.0  5ff1e194b6a9d73a3a9f1052  "
      ]
     },
     "execution_count": 17,
     "metadata": {},
     "output_type": "execute_result"
    }
   ],
   "source": [
    "# Transform id and datetime fields\n",
    "receipts[\"id\"] = receipts[\"id\"].apply(lambda x: x[\"$oid\"])\n",
    "receipts[\"createDate\"] = pd.to_datetime(receipts[\"createDate\"].apply(lambda x: get_val(x, \"$date\")), unit=\"ms\")\n",
    "receipts[\"dateScanned\"] = pd.to_datetime(receipts[\"dateScanned\"].apply(lambda x: get_val(x, \"$date\")), unit=\"ms\")\n",
    "receipts[\"finishedDate\"] = pd.to_datetime(receipts[\"finishedDate\"].apply(lambda x: get_val(x, \"$date\")), unit=\"ms\")\n",
    "receipts[\"modifyDate\"] = pd.to_datetime(receipts[\"modifyDate\"].apply(lambda x: get_val(x, \"$date\")), unit=\"ms\")\n",
    "receipts[\"pointsAwardedDate\"] = pd.to_datetime(receipts[\"pointsAwardedDate\"].apply(lambda x: get_val(x, \"$date\")), unit=\"ms\")\n",
    "receipts[\"purchaseDate\"] = pd.to_datetime(receipts[\"purchaseDate\"].apply(lambda x: get_val(x, \"$date\")), unit=\"ms\")\n",
    "receipts.head(2)"
   ]
  },
  {
   "cell_type": "code",
   "execution_count": 18,
   "id": "fb1fbd26",
   "metadata": {},
   "outputs": [
    {
     "data": {
      "text/plain": [
       "id                           0\n",
       "bonusPointsEarned          575\n",
       "bonusPointsEarnedReason    575\n",
       "createDate                   0\n",
       "dateScanned                  0\n",
       "finishedDate               551\n",
       "modifyDate                   0\n",
       "pointsAwardedDate          582\n",
       "pointsEarned               510\n",
       "purchaseDate               448\n",
       "purchasedItemCount         484\n",
       "rewardsReceiptItemList     440\n",
       "rewardsReceiptStatus         0\n",
       "totalSpent                 435\n",
       "userId                       0\n",
       "dtype: int64"
      ]
     },
     "execution_count": 18,
     "metadata": {},
     "output_type": "execute_result"
    }
   ],
   "source": [
    "# Checking for nullable columns\n",
    "receipts.isnull().sum()"
   ]
  },
  {
   "cell_type": "code",
   "execution_count": 19,
   "id": "32c2226d",
   "metadata": {},
   "outputs": [
    {
     "data": {
      "text/plain": [
       "0       [{'barcode': '4011', 'description': 'ITEM NOT ...\n",
       "1       [{'barcode': '4011', 'description': 'ITEM NOT ...\n",
       "2       [{'needsFetchReview': False, 'partnerItemId': ...\n",
       "3       [{'barcode': '4011', 'description': 'ITEM NOT ...\n",
       "4       [{'barcode': '4011', 'description': 'ITEM NOT ...\n",
       "                              ...                        \n",
       "1114    [{'barcode': 'B076FJ92M4', 'description': 'mue...\n",
       "1115                                                  NaN\n",
       "1116                                                  NaN\n",
       "1117    [{'barcode': 'B076FJ92M4', 'description': 'mue...\n",
       "1118                                                  NaN\n",
       "Name: rewardsReceiptItemList, Length: 1119, dtype: object"
      ]
     },
     "execution_count": 19,
     "metadata": {},
     "output_type": "execute_result"
    }
   ],
   "source": [
    "# Check receipt_items in receipts\n",
    "receipts[\"rewardsReceiptItemList\"]"
   ]
  },
  {
   "cell_type": "markdown",
   "id": "57e08fb5",
   "metadata": {},
   "source": [
    "The `rewardsReceiptItemList` contains a list of JSON object which needs to be translated into a structure of its own. Each item in this list can be extracted into a new table called `receipt_item` with a foreign key `receipt_id` which references the `id` of the receipt in which this item was found. "
   ]
  },
  {
   "cell_type": "code",
   "execution_count": 20,
   "id": "e5a295ab",
   "metadata": {},
   "outputs": [
    {
     "data": {
      "text/html": [
       "<div>\n",
       "<style scoped>\n",
       "    .dataframe tbody tr th:only-of-type {\n",
       "        vertical-align: middle;\n",
       "    }\n",
       "\n",
       "    .dataframe tbody tr th {\n",
       "        vertical-align: top;\n",
       "    }\n",
       "\n",
       "    .dataframe thead th {\n",
       "        text-align: right;\n",
       "    }\n",
       "</style>\n",
       "<table border=\"1\" class=\"dataframe\">\n",
       "  <thead>\n",
       "    <tr style=\"text-align: right;\">\n",
       "      <th></th>\n",
       "      <th>barcode</th>\n",
       "      <th>brandCode</th>\n",
       "      <th>competitiveProduct</th>\n",
       "      <th>competitorRewardsGroup</th>\n",
       "      <th>deleted</th>\n",
       "      <th>description</th>\n",
       "      <th>discountedItemPrice</th>\n",
       "      <th>finalPrice</th>\n",
       "      <th>itemNumber</th>\n",
       "      <th>itemPrice</th>\n",
       "      <th>...</th>\n",
       "      <th>quantityPurchased</th>\n",
       "      <th>receipt_id</th>\n",
       "      <th>rewardsGroup</th>\n",
       "      <th>rewardsProductPartnerId</th>\n",
       "      <th>targetPrice</th>\n",
       "      <th>userFlaggedBarcode</th>\n",
       "      <th>userFlaggedDescription</th>\n",
       "      <th>userFlaggedNewItem</th>\n",
       "      <th>userFlaggedPrice</th>\n",
       "      <th>userFlaggedQuantity</th>\n",
       "    </tr>\n",
       "  </thead>\n",
       "  <tbody>\n",
       "    <tr>\n",
       "      <th>0</th>\n",
       "      <td>4011</td>\n",
       "      <td>NaN</td>\n",
       "      <td>NaN</td>\n",
       "      <td>NaN</td>\n",
       "      <td>NaN</td>\n",
       "      <td>ITEM NOT FOUND</td>\n",
       "      <td>NaN</td>\n",
       "      <td>26.00</td>\n",
       "      <td>NaN</td>\n",
       "      <td>26.00</td>\n",
       "      <td>...</td>\n",
       "      <td>5.0</td>\n",
       "      <td>5ff1e1eb0a720f0523000575</td>\n",
       "      <td>NaN</td>\n",
       "      <td>NaN</td>\n",
       "      <td>NaN</td>\n",
       "      <td>4011</td>\n",
       "      <td>NaN</td>\n",
       "      <td>True</td>\n",
       "      <td>26.00</td>\n",
       "      <td>5.0</td>\n",
       "    </tr>\n",
       "    <tr>\n",
       "      <th>1</th>\n",
       "      <td>4011</td>\n",
       "      <td>NaN</td>\n",
       "      <td>NaN</td>\n",
       "      <td>NaN</td>\n",
       "      <td>NaN</td>\n",
       "      <td>ITEM NOT FOUND</td>\n",
       "      <td>NaN</td>\n",
       "      <td>1</td>\n",
       "      <td>NaN</td>\n",
       "      <td>1</td>\n",
       "      <td>...</td>\n",
       "      <td>1.0</td>\n",
       "      <td>5ff1e1bb0a720f052300056b</td>\n",
       "      <td>NaN</td>\n",
       "      <td>NaN</td>\n",
       "      <td>NaN</td>\n",
       "      <td>NaN</td>\n",
       "      <td>NaN</td>\n",
       "      <td>NaN</td>\n",
       "      <td>NaN</td>\n",
       "      <td>NaN</td>\n",
       "    </tr>\n",
       "  </tbody>\n",
       "</table>\n",
       "<p>2 rows × 35 columns</p>\n",
       "</div>"
      ],
      "text/plain": [
       "  barcode brandCode competitiveProduct competitorRewardsGroup deleted  \\\n",
       "0    4011       NaN                NaN                    NaN     NaN   \n",
       "1    4011       NaN                NaN                    NaN     NaN   \n",
       "\n",
       "      description discountedItemPrice finalPrice itemNumber itemPrice  ...  \\\n",
       "0  ITEM NOT FOUND                 NaN      26.00        NaN     26.00  ...   \n",
       "1  ITEM NOT FOUND                 NaN          1        NaN         1  ...   \n",
       "\n",
       "  quantityPurchased                receipt_id rewardsGroup  \\\n",
       "0               5.0  5ff1e1eb0a720f0523000575          NaN   \n",
       "1               1.0  5ff1e1bb0a720f052300056b          NaN   \n",
       "\n",
       "  rewardsProductPartnerId targetPrice userFlaggedBarcode  \\\n",
       "0                     NaN         NaN               4011   \n",
       "1                     NaN         NaN                NaN   \n",
       "\n",
       "  userFlaggedDescription  userFlaggedNewItem userFlaggedPrice  \\\n",
       "0                    NaN                True            26.00   \n",
       "1                    NaN                 NaN              NaN   \n",
       "\n",
       "  userFlaggedQuantity  \n",
       "0                 5.0  \n",
       "1                 NaN  \n",
       "\n",
       "[2 rows x 35 columns]"
      ]
     },
     "execution_count": 20,
     "metadata": {},
     "output_type": "execute_result"
    }
   ],
   "source": [
    "rows = []\n",
    "\n",
    "# Iterate over receipts\n",
    "for index, row in receipts.iterrows():\n",
    "    receipt_id = row[\"id\"]\n",
    "    items = row[\"rewardsReceiptItemList\"]\n",
    "    # Continue only if we find a list of items\n",
    "    if not isinstance(items, list):\n",
    "        continue\n",
    "    try:\n",
    "      for item in items:\n",
    "          # Create a row for each item in receipt and add receipt_id field for mapping\n",
    "          new_row = {**item, \"receipt_id\": receipt_id}\n",
    "          rows.append(new_row)\n",
    "    except Exception as e:\n",
    "       print(items)\n",
    "       \n",
    "\n",
    "receipt_items = pd.DataFrame(rows).sort_index(axis=1)\n",
    "receipt_items.head(2)"
   ]
  },
  {
   "cell_type": "markdown",
   "id": "7375a221",
   "metadata": {},
   "source": [
    "It can be observed that there are no nested objects in `receipt_items`, hence no further normalization is required and hence a single table `receipt_item` can be created for it.\n",
    "\n",
    "It is crucial to establish a relation between `receipt_item` and `brand`. On first glance, `brandCode` seems to be potential candidate for this relation as even `brand` table contains `brandCode`. Let's analyze if `brandCode` can be used for this purpose."
   ]
  },
  {
   "cell_type": "code",
   "execution_count": 21,
   "id": "25db4c91",
   "metadata": {},
   "outputs": [
    {
     "data": {
      "text/plain": [
       "barcode                               3851\n",
       "brandCode                             4341\n",
       "competitiveProduct                    6296\n",
       "competitorRewardsGroup                6666\n",
       "deleted                               6932\n",
       "description                            381\n",
       "discountedItemPrice                   1172\n",
       "finalPrice                             174\n",
       "itemNumber                            6788\n",
       "itemPrice                              174\n",
       "metabriteCampaignId                   6078\n",
       "needsFetchReview                      6128\n",
       "needsFetchReviewReason                6722\n",
       "originalFinalPrice                    6932\n",
       "originalMetaBriteBarcode              6870\n",
       "originalMetaBriteDescription          6931\n",
       "originalMetaBriteItemPrice            6932\n",
       "originalMetaBriteQuantityPurchased    6926\n",
       "originalReceiptItemText               1181\n",
       "partnerItemId                            0\n",
       "pointsEarned                          6014\n",
       "pointsNotAwardedReason                6601\n",
       "pointsPayerId                         5674\n",
       "preventTargetGapPoints                6583\n",
       "priceAfterCoupon                      5985\n",
       "quantityPurchased                      174\n",
       "receipt_id                               0\n",
       "rewardsGroup                          5210\n",
       "rewardsProductPartnerId               4672\n",
       "targetPrice                           6563\n",
       "userFlaggedBarcode                    6604\n",
       "userFlaggedDescription                6736\n",
       "userFlaggedNewItem                    6618\n",
       "userFlaggedPrice                      6642\n",
       "userFlaggedQuantity                   6642\n",
       "dtype: int64"
      ]
     },
     "execution_count": 21,
     "metadata": {},
     "output_type": "execute_result"
    }
   ],
   "source": [
    "# Checking for nullable columns\n",
    "receipt_items.isnull().sum()"
   ]
  },
  {
   "cell_type": "code",
   "execution_count": 22,
   "id": "64294b0e",
   "metadata": {},
   "outputs": [
    {
     "data": {
      "text/plain": [
       "False"
      ]
     },
     "execution_count": 22,
     "metadata": {},
     "output_type": "execute_result"
    }
   ],
   "source": [
    "# Check if all brandCodes of receipt_items are present in brandCodes of brands\n",
    "receipt_items[\"brandCode\"].isin(brands[\"brandCode\"]).all()"
   ]
  },
  {
   "cell_type": "markdown",
   "id": "e328a550",
   "metadata": {},
   "source": [
    "Not all items in `receipt_items` contain `brandCode` and `brands` does not have all the `brandCode`s present in `receipt_items`. Hence `brandCode` is not a reliable column for establishing relation between these two tables. Another option was to use `barcode` which is also present in `brand` table, but by definition, a barcode should be unique for each item and hence I don't think it is the right field to join the two tables. I decided to add a new column in `receipt_items` called `brand_id` which will link the item to a brand. This column needs to be populated for each item but I think this is the right approach to form a relation between the two tables.\n",
    "\n",
    "#### 1.2.3. Finalizing `receipt` and `receipt_item` table\n",
    "\n",
    "The `receipt` table will not have `rewardsReceiptItemList` as it is extracted into a separate table called `receipt_item`. The `receipt_item` table has a field called `receipt_id` that references `id` of `receipt` to establish a one to many relation betweeen receipt and its items. The table structure for `receipt` and `receipt_item` is displayed in [data model diagram](#section_1_data_model)."
   ]
  },
  {
   "cell_type": "markdown",
   "id": "60b7e6b5",
   "metadata": {},
   "source": [
    "## 2. Write queries that directly answer predetermined questions from a business stakeholder\n",
    "\n",
    "### 2.1. What are the top 5 brands by receipts scanned for most recent month?\n",
    "\n",
    "SQL file: [Top 5 brands by receipts scanned for most recent month](./section_2/1_top_5_brands_receipts_scanned_recent_month.sql)\n",
    "\n",
    "```sql\n",
    "WITH recent_month AS ( -- CTE to find the most recent month present in the receipt table\n",
    "    SELECT DATE_TRUNC('month', MAX(date_scanned)) AS recent_month -- maximum value of the date_scanned column and truncating it to the beginning of the month\n",
    "    FROM receipt\n",
    ")\n",
    "SELECT brand.name, COUNT(receipt_id) AS count\n",
    "FROM receipt\n",
    "JOIN receipt_item ON receipt.id = receipt_item.receipt_id -- join receipt_item with receipt with receipt_id\n",
    "JOIN brand ON receipt_item.brand_id = brand.id -- join receipt_item with brand with brand_id\n",
    "WHERE DATE_TRUNC('month', receipt.date_scanned) = (SELECT recent_month FROM recent_month) -- filter to include only those from the most recent month found in the recent_month CTE\n",
    "GROUP BY brand.name\n",
    "ORDER BY count DESC -- order based on receipt count\n",
    "LIMIT 5; -- get top 5 results\n",
    "```\n",
    "\n",
    "### 2.2. How does the ranking of the top 5 brands by receipts scanned for the recent month compare to the ranking for the previous month?\n",
    "\n",
    "SQL file: [Comparison of ranking of top 5 brands by receipts scanned for the recent month to previous month](./section_2/2_top_5_brands_rank_comparison.sql)\n",
    "\n",
    "```sql\n",
    "WITH recent_months AS ( -- CTE to find the most recent two month present in the receipt table\n",
    "    SELECT DATE_TRUNC('month', date_scanned) AS month -- truncating date_scanned to get month\n",
    "    FROM receipt\n",
    "    ORDER BY month DESC\n",
    "    LIMIT 2 -- get recent two monthts\n",
    "),\n",
    "brand_counts AS ( -- CTE to calculate the counts of each brand for the recent months\n",
    "    SELECT DATE_TRUNC('month', receipt.date_scanned) AS month, brand.name, COUNT(receipt.id) AS count -- extract month and get count of receipts\n",
    "    FROM receipt\n",
    "    JOIN receipt_item ON receipt.id = receipt_item.receipt_id -- join receipt_item with receipt with receipt_id\n",
    "    JOIN brand ON receipt_item.brand_id = brand.id -- join receipt_item with brand with brand_id\n",
    "    WHERE DATE_TRUNC('month', receipt.date_scanned) IN (SELECT month FROM recent_months) -- filter to include only those from the most recent two month found in the recent_month CTE\n",
    "    GROUP BY month, brand.name\n",
    "),\n",
    "ranked_brands AS ( -- CTE to calculate the ranking of each brand for each month in brand_counts CTE\n",
    "    SELECT month, name, count,\n",
    "           RANK() OVER (PARTITION BY month ORDER BY count DESC) AS ranking\n",
    "    FROM brand_counts\n",
    ")\n",
    "SELECT rb.month AS recent_month, rb.name AS brand_name, rb.ranking AS recent_ranking, COALESCE(rb_prev.ranking, 0) AS previous_ranking -- assign rank 0 to brands not present in previous month\n",
    "FROM ranked_brands rb\n",
    "LEFT JOIN ranked_brands rb_prev ON rb.month = rb_prev.month - INTERVAL '1 month' AND rb.name = rb_prev.name -- self join ranked_brands using month in rb and substracting 1 month in rb_prev \n",
    "WHERE rb.month = (SELECT month FROM recent_months LIMIT 1) -- select only the recent month as we are already self joining to map previous month\n",
    "ORDER BY rb.count DESC\n",
    "LIMIT 5; -- et top 5 results\n",
    "```"
   ]
  },
  {
   "cell_type": "markdown",
   "id": "cf3febc4",
   "metadata": {},
   "source": [
    "## 3. Evaluate Data Quality Issues in the Data Provided\n",
    "\n",
    "### 3.1. Missing values for columns that could potentially define relations\n",
    "\n",
    "While a significant number of columns in `user` and `brand` tables had missing values, the columns that defined relations, i.e. `user_id` and `brand_id` did not have any missing values. Even for `receipt_id` in `receipt` table, there were no missing values. However, the problem was with the `rewardsReceiptItemList` in `receipt`, which I translated to the `receipt_item` table. None of the columns in this collection could form a relation to `brand` table. The only relevant column called `brandCode` had missing values and values that were not present in `brandCode`s of `brand` table.\n"
   ]
  },
  {
   "cell_type": "code",
   "execution_count": 23,
   "id": "e2fe7bde",
   "metadata": {},
   "outputs": [
    {
     "data": {
      "text/plain": [
       "234"
      ]
     },
     "execution_count": 23,
     "metadata": {},
     "output_type": "execute_result"
    }
   ],
   "source": [
    "# Checking for null values in brandCode column\n",
    "brands[\"brandCode\"].isnull().sum()"
   ]
  },
  {
   "cell_type": "code",
   "execution_count": 24,
   "id": "4c3e1a21",
   "metadata": {},
   "outputs": [
    {
     "data": {
      "text/plain": [
       "False"
      ]
     },
     "execution_count": 24,
     "metadata": {},
     "output_type": "execute_result"
    }
   ],
   "source": [
    "# Check if all brandCodes of receipt_items are present in brandCodes of brands\n",
    "receipt_items[\"brandCode\"].isin(brands[\"brandCode\"]).all()"
   ]
  },
  {
   "cell_type": "markdown",
   "id": "df546c58",
   "metadata": {},
   "source": [
    "To form a concrete relation between the `receipt_item` and `brand` table, I had to include a new column in `receipt_item` called `brand_id` which references to `brand.id`. While this column does not contain any data as of now and would need some effort to be populated, but I feel this is the right way to fix the issue at hand.\n",
    "\n",
    "There are other fields that have missing values but I think most of those qualify as field which may or may not have values based on the scenario.\n",
    "\n",
    "Another data quality issue was with the `userId` values present in `receipts`. Not all `userId` were present in the `users` collection which could result in issues during `JOIN` operations."
   ]
  },
  {
   "cell_type": "code",
   "execution_count": 25,
   "id": "ebe0d1c0",
   "metadata": {},
   "outputs": [
    {
     "data": {
      "text/plain": [
       "False"
      ]
     },
     "execution_count": 25,
     "metadata": {},
     "output_type": "execute_result"
    }
   ],
   "source": [
    "# Check if all userId of receipts are present in id of users\n",
    "receipts[\"userId\"].isin(users[\"id\"]).all()"
   ]
  },
  {
   "cell_type": "markdown",
   "id": "a92d1ca4",
   "metadata": {},
   "source": [
    "### 3.2. Duplicate values for fields that need to be unique"
   ]
  },
  {
   "cell_type": "code",
   "execution_count": 26,
   "id": "10a92434",
   "metadata": {},
   "outputs": [
    {
     "data": {
      "text/html": [
       "<div>\n",
       "<style scoped>\n",
       "    .dataframe tbody tr th:only-of-type {\n",
       "        vertical-align: middle;\n",
       "    }\n",
       "\n",
       "    .dataframe tbody tr th {\n",
       "        vertical-align: top;\n",
       "    }\n",
       "\n",
       "    .dataframe thead th {\n",
       "        text-align: right;\n",
       "    }\n",
       "</style>\n",
       "<table border=\"1\" class=\"dataframe\">\n",
       "  <thead>\n",
       "    <tr style=\"text-align: right;\">\n",
       "      <th></th>\n",
       "      <th>id</th>\n",
       "      <th>active</th>\n",
       "      <th>createdDate</th>\n",
       "      <th>lastLogin</th>\n",
       "      <th>role</th>\n",
       "      <th>signUpSource</th>\n",
       "      <th>state</th>\n",
       "    </tr>\n",
       "  </thead>\n",
       "  <tbody>\n",
       "    <tr>\n",
       "      <th>0</th>\n",
       "      <td>5ff1e194b6a9d73a3a9f1052</td>\n",
       "      <td>True</td>\n",
       "      <td>2021-01-03 15:24:04.800</td>\n",
       "      <td>2021-01-03 15:25:37.857999872</td>\n",
       "      <td>consumer</td>\n",
       "      <td>Email</td>\n",
       "      <td>WI</td>\n",
       "    </tr>\n",
       "    <tr>\n",
       "      <th>1</th>\n",
       "      <td>5ff1e194b6a9d73a3a9f1052</td>\n",
       "      <td>True</td>\n",
       "      <td>2021-01-03 15:24:04.800</td>\n",
       "      <td>2021-01-03 15:25:37.857999872</td>\n",
       "      <td>consumer</td>\n",
       "      <td>Email</td>\n",
       "      <td>WI</td>\n",
       "    </tr>\n",
       "    <tr>\n",
       "      <th>2</th>\n",
       "      <td>5ff1e194b6a9d73a3a9f1052</td>\n",
       "      <td>True</td>\n",
       "      <td>2021-01-03 15:24:04.800</td>\n",
       "      <td>2021-01-03 15:25:37.857999872</td>\n",
       "      <td>consumer</td>\n",
       "      <td>Email</td>\n",
       "      <td>WI</td>\n",
       "    </tr>\n",
       "    <tr>\n",
       "      <th>4</th>\n",
       "      <td>5ff1e194b6a9d73a3a9f1052</td>\n",
       "      <td>True</td>\n",
       "      <td>2021-01-03 15:24:04.800</td>\n",
       "      <td>2021-01-03 15:25:37.857999872</td>\n",
       "      <td>consumer</td>\n",
       "      <td>Email</td>\n",
       "      <td>WI</td>\n",
       "    </tr>\n",
       "    <tr>\n",
       "      <th>5</th>\n",
       "      <td>5ff1e194b6a9d73a3a9f1052</td>\n",
       "      <td>True</td>\n",
       "      <td>2021-01-03 15:24:04.800</td>\n",
       "      <td>2021-01-03 15:25:37.857999872</td>\n",
       "      <td>consumer</td>\n",
       "      <td>Email</td>\n",
       "      <td>WI</td>\n",
       "    </tr>\n",
       "  </tbody>\n",
       "</table>\n",
       "</div>"
      ],
      "text/plain": [
       "                         id  active             createdDate  \\\n",
       "0  5ff1e194b6a9d73a3a9f1052    True 2021-01-03 15:24:04.800   \n",
       "1  5ff1e194b6a9d73a3a9f1052    True 2021-01-03 15:24:04.800   \n",
       "2  5ff1e194b6a9d73a3a9f1052    True 2021-01-03 15:24:04.800   \n",
       "4  5ff1e194b6a9d73a3a9f1052    True 2021-01-03 15:24:04.800   \n",
       "5  5ff1e194b6a9d73a3a9f1052    True 2021-01-03 15:24:04.800   \n",
       "\n",
       "                      lastLogin      role signUpSource state  \n",
       "0 2021-01-03 15:25:37.857999872  consumer        Email    WI  \n",
       "1 2021-01-03 15:25:37.857999872  consumer        Email    WI  \n",
       "2 2021-01-03 15:25:37.857999872  consumer        Email    WI  \n",
       "4 2021-01-03 15:25:37.857999872  consumer        Email    WI  \n",
       "5 2021-01-03 15:25:37.857999872  consumer        Email    WI  "
      ]
     },
     "execution_count": 26,
     "metadata": {},
     "output_type": "execute_result"
    }
   ],
   "source": [
    "# Fetch all users having the same id 5ff1e194b6a9d73a3a9f1052\n",
    "users[users[\"id\"] == \"5ff1e194b6a9d73a3a9f1052\"].head(5)"
   ]
  },
  {
   "cell_type": "markdown",
   "id": "16197f7b",
   "metadata": {},
   "source": [
    "The `id` field of `users` contain duplicate values which should not have been the case. While loading data into the database, I decided to ignore the duplicate entries as all of their fields were same.\n",
    "\n",
    "Same applies for the `barcode` and `brandCode` fields in `brands` which initially looked like unique fields but on analyzing I found that they contain duplicate values."
   ]
  },
  {
   "cell_type": "code",
   "execution_count": 27,
   "id": "1b87e068",
   "metadata": {},
   "outputs": [
    {
     "data": {
      "text/plain": [
       "False"
      ]
     },
     "execution_count": 27,
     "metadata": {},
     "output_type": "execute_result"
    }
   ],
   "source": [
    "# Checking if barcode column is unique in raw data\n",
    "brands[\"barcode\"].nunique() == brands[\"barcode\"].count()"
   ]
  },
  {
   "cell_type": "code",
   "execution_count": 28,
   "id": "23ad3282",
   "metadata": {},
   "outputs": [
    {
     "data": {
      "text/plain": [
       "False"
      ]
     },
     "execution_count": 28,
     "metadata": {},
     "output_type": "execute_result"
    }
   ],
   "source": [
    "# Checking if barcode column is unique in raw data\n",
    "brands[\"brandCode\"].nunique() == brands[\"brandCode\"].count()"
   ]
  },
  {
   "cell_type": "markdown",
   "id": "784cc58f",
   "metadata": {},
   "source": [
    "## 4. Communicate with Stakeholders\n",
    "\n",
    "Hi Max,\n",
    "\n",
    "I hope you are doing well. I am Srushti, an Analytics Engineer from the data team who has been working on the rewards analysis project for a couple of days now. I wanted your input on a few questions that I have. \n",
    "\n",
    "Executive project summary: Analyzing three primary datasets (users, receipts, and brands) to answer questions from the product team for next year's product roadmap. \n",
    "\n",
    "Questions about the data: \n",
    "\n",
    "1. Should the analysis include receipts that have missing user information? Please let me know which option you would like to go with:\n",
    "    - We include all receipts and treat receipts with missing user information as guest receipts. This will help provide company-level rewards insights.\n",
    "    - We exclude receipts with missing user information if we want to derive insights related to registered users.\n",
    "    - Is there any other way of getting the exhaustive list of users from any other team where we can find missing user information?\n",
    "2. Every receipt has multiple product items. While analyzing the receipts dataset, I observed that the brand codes in these product items are missing in the brand dataset. What approach would you like me to take? Here are a few options:\n",
    "    - For missing brand codes in product items, I assume the brand is \"Misc\" and include them in the insights.\n",
    "    - For product items with brand codes not present in the brand dataset, can we get brand information from any other team if we provide them with a list of brand codes?\n",
    "\n",
    "Scaling and performance specifications:\n",
    "\n",
    "1. Storing data on fast databases like PostgreSQL will become expensive as the business grows. Moving our application data to a data warehouse or cold storage like Amazon S3 will help reduce data storage costs. We can build an ETL pipeline to automate moving old data to a data warehouse and cold storage and set a retention policy for historical data. \n",
    "2. We should add testing infrastructure in data pipelines and CI/CD workflows to enforce data quality checks.\n",
    "3. Data backups are going to be crucial in the production environment. For this, data replication will be required to ensure fault tolerance and data availability.\n",
    "4. We need to ensure that data governance policies are set as per Legal team's guidelines and that only limited people in the company can access Personally Identifiable Information (PII) data.\n",
    "\n",
    "Thank you very much. Please let me know if you have any questions for me.\n",
    "\n",
    "Kind regards,\n",
    "\n",
    "Srushti"
   ]
  }
 ],
 "metadata": {
  "kernelspec": {
   "display_name": "Python 3 (ipykernel)",
   "language": "python",
   "name": "python3"
  },
  "language_info": {
   "codemirror_mode": {
    "name": "ipython",
    "version": 3
   },
   "file_extension": ".py",
   "mimetype": "text/x-python",
   "name": "python",
   "nbconvert_exporter": "python",
   "pygments_lexer": "ipython3",
   "version": "3.9.13"
  }
 },
 "nbformat": 4,
 "nbformat_minor": 5
}
